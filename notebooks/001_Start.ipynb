{
 "cells": [
  {
   "cell_type": "code",
   "execution_count": 1,
   "metadata": {},
   "outputs": [],
   "source": [
    "import eikon as ek"
   ]
  },
  {
   "cell_type": "code",
   "execution_count": 2,
   "metadata": {},
   "outputs": [],
   "source": [
    "ek.set_app_key(\"\")"
   ]
  },
  {
   "cell_type": "code",
   "execution_count": 10,
   "metadata": {},
   "outputs": [
    {
     "data": {
      "text/html": [
       "<div>\n",
       "<style scoped>\n",
       "    .dataframe tbody tr th:only-of-type {\n",
       "        vertical-align: middle;\n",
       "    }\n",
       "\n",
       "    .dataframe tbody tr th {\n",
       "        vertical-align: top;\n",
       "    }\n",
       "\n",
       "    .dataframe thead th {\n",
       "        text-align: right;\n",
       "    }\n",
       "</style>\n",
       "<table border=\"1\" class=\"dataframe\">\n",
       "  <thead>\n",
       "    <tr style=\"text-align: right;\">\n",
       "      <th></th>\n",
       "      <th>Instrument</th>\n",
       "      <th>Legal Address City</th>\n",
       "      <th>Legal Address Line 1</th>\n",
       "      <th>Full-Time Employees</th>\n",
       "    </tr>\n",
       "  </thead>\n",
       "  <tbody>\n",
       "    <tr>\n",
       "      <th>0</th>\n",
       "      <td>ANTO.L</td>\n",
       "      <td>LONDON</td>\n",
       "      <td>103 Mount Street</td>\n",
       "      <td>6359</td>\n",
       "    </tr>\n",
       "  </tbody>\n",
       "</table>\n",
       "</div>"
      ],
      "text/plain": [
       "  Instrument Legal Address City Legal Address Line 1  Full-Time Employees\n",
       "0     ANTO.L             LONDON     103 Mount Street                 6359"
      ]
     },
     "metadata": {},
     "output_type": "display_data"
    }
   ],
   "source": [
    "df, err = ek.get_data(\n",
    "    instruments = \"ANTO.L\", \n",
    "    fields = ['TR.LegalAddressCity','TR.LegalAddressLine1','TR.Employees']\n",
    ")\n",
    "display(df)"
   ]
  },
  {
   "cell_type": "code",
   "execution_count": 11,
   "metadata": {},
   "outputs": [],
   "source": [
    "df = ek.get_data('VOD.L',['TR.Revenue(SDate=0,EDate=-9,Period=FS0,Frq=FS).date','TR.Revenue(SDate=0,EDate=-9,Period=FS0,Frq=FS)'])"
   ]
  },
  {
   "cell_type": "code",
   "execution_count": 12,
   "metadata": {},
   "outputs": [
    {
     "data": {
      "text/plain": [
       "(  Instrument                  Date      Revenue\n",
       " 0      VOD.L  2023-03-31T00:00:00Z  22776000000\n",
       " 1      VOD.L  2022-09-30T00:00:00Z  22930000000\n",
       " 2      VOD.L  2022-03-31T00:00:00Z  23091000000\n",
       " 3      VOD.L  2021-09-30T00:00:00Z  22489000000\n",
       " 4      VOD.L  2021-03-31T00:00:00Z  22382000000\n",
       " 5      VOD.L  2020-09-30T00:00:00Z  21427000000\n",
       " 6      VOD.L  2020-03-31T00:00:00Z  23035000000\n",
       " 7      VOD.L  2019-09-30T00:00:00Z  21939000000\n",
       " 8      VOD.L  2019-03-31T00:00:00Z  21870000000\n",
       " 9      VOD.L  2018-09-30T00:00:00Z  21848000000,\n",
       " None)"
      ]
     },
     "execution_count": 12,
     "metadata": {},
     "output_type": "execute_result"
    }
   ],
   "source": [
    "df"
   ]
  }
 ],
 "metadata": {
  "kernelspec": {
   "display_name": "uew_etfs",
   "language": "python",
   "name": "python3"
  },
  "language_info": {
   "codemirror_mode": {
    "name": "ipython",
    "version": 3
   },
   "file_extension": ".py",
   "mimetype": "text/x-python",
   "name": "python",
   "nbconvert_exporter": "python",
   "pygments_lexer": "ipython3",
   "version": "3.9.16"
  },
  "orig_nbformat": 4
 },
 "nbformat": 4,
 "nbformat_minor": 2
}
